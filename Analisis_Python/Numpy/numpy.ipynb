{
 "cells": [
  {
   "cell_type": "code",
   "execution_count": 1,
   "id": "8202a188-fd1a-4c20-a643-fbe6dccee181",
   "metadata": {},
   "outputs": [],
   "source": [
    "import numpy as np\n"
   ]
  },
  {
   "cell_type": "markdown",
   "id": "6d7143a4-2999-4c7e-bd60-3d279286945d",
   "metadata": {},
   "source": [
    "### Arreglos en Numpy\n",
    "\n",
    "Un arreglo es una estructura de datos que permite almacenar elementos de un mismo tipo. En Numpy, un arreglo solo puede tener un tipo de dato."
   ]
  },
  {
   "cell_type": "code",
   "execution_count": 9,
   "id": "9fe3210b-9806-4776-a1fd-d77aa55a0d3c",
   "metadata": {},
   "outputs": [
    {
     "data": {
      "text/plain": [
       "array([1, 2, 3, 4, 5])"
      ]
     },
     "execution_count": 9,
     "metadata": {},
     "output_type": "execute_result"
    }
   ],
   "source": [
    "np.array( [1, 2, 3, 4, 5] )"
   ]
  },
  {
   "cell_type": "markdown",
   "id": "84a2f261-325c-4853-879e-10f89199a4e0",
   "metadata": {},
   "source": [
    "Podemos guardar arreglos en variables."
   ]
  },
  {
   "cell_type": "code",
   "execution_count": 10,
   "id": "b7ca3856-cb26-4f78-acaf-dc93e58636b9",
   "metadata": {},
   "outputs": [],
   "source": [
    "a = np.array([1, 2, 3, 4, 5])"
   ]
  },
  {
   "cell_type": "markdown",
   "id": "fb4d4a94-8ca0-43a9-9670-5ee9d95fedac",
   "metadata": {},
   "source": [
    "Cada arreglo tiene un id único que lo identifica en memoria."
   ]
  },
  {
   "cell_type": "code",
   "execution_count": 11,
   "id": "b37f5bcf-4c98-4dab-903f-eb6cf30a21b2",
   "metadata": {},
   "outputs": [
    {
     "data": {
      "text/plain": [
       "140032505112848"
      ]
     },
     "execution_count": 11,
     "metadata": {},
     "output_type": "execute_result"
    }
   ],
   "source": [
    "id(a)"
   ]
  },
  {
   "cell_type": "markdown",
   "id": "612eac12-fef0-4e91-a590-cb053d1f9686",
   "metadata": {},
   "source": [
    "Size nos indica el tamaño del arreglo, es decir, el número de elementos que contiene."
   ]
  },
  {
   "cell_type": "code",
   "execution_count": 12,
   "id": "81d6db44-f55b-4088-9190-e33892d3764e",
   "metadata": {},
   "outputs": [
    {
     "data": {
      "text/plain": [
       "5"
      ]
     },
     "execution_count": 12,
     "metadata": {},
     "output_type": "execute_result"
    }
   ],
   "source": [
    "a.size"
   ]
  },
  {
   "cell_type": "markdown",
   "id": "5ce6c721-c863-47a8-8feb-073125803f13",
   "metadata": {},
   "source": [
    "Ndim nos indica el número de dimensiones del arreglo, es decir, si es un arreglo unidimensional, bidimensional, etc."
   ]
  },
  {
   "cell_type": "code",
   "execution_count": 13,
   "id": "c4ac117b-8e4c-4ccf-8a7f-d7a0776818b6",
   "metadata": {},
   "outputs": [
    {
     "data": {
      "text/plain": [
       "1"
      ]
     },
     "execution_count": 13,
     "metadata": {},
     "output_type": "execute_result"
    }
   ],
   "source": [
    "a.ndim"
   ]
  },
  {
   "cell_type": "markdown",
   "id": "41b592c2-76fe-4c8c-abe0-7a38fe26e044",
   "metadata": {},
   "source": [
    "Dtype nos indica el tipo de dato que contiene el arreglo."
   ]
  },
  {
   "cell_type": "code",
   "execution_count": 14,
   "id": "83afdc92-82b1-4372-81fe-31450c2c077d",
   "metadata": {},
   "outputs": [
    {
     "data": {
      "text/plain": [
       "dtype('int64')"
      ]
     },
     "execution_count": 14,
     "metadata": {},
     "output_type": "execute_result"
    }
   ],
   "source": [
    "a.dtype"
   ]
  },
  {
   "cell_type": "markdown",
   "id": "38fbad4e-9ce1-4397-9a2d-aadb4cc22de5",
   "metadata": {},
   "source": [
    "Shape nos indica el número de elementos en cada dimensión del arreglo."
   ]
  },
  {
   "cell_type": "code",
   "execution_count": 15,
   "id": "702b993d-4589-4b83-87ed-73733c34ce8e",
   "metadata": {},
   "outputs": [
    {
     "data": {
      "text/plain": [
       "(5,)"
      ]
     },
     "execution_count": 15,
     "metadata": {},
     "output_type": "execute_result"
    }
   ],
   "source": [
    "a.shape"
   ]
  },
  {
   "cell_type": "markdown",
   "id": "a8cf35ac-8bf5-4ea1-885f-2efaa5f8025e",
   "metadata": {},
   "source": [
    "### Operaciones con arreglos\n",
    "\n",
    "Podemos realizar operaciones matemáticas con arreglos. Estas operaciones se aplican elemento por elemento. \n",
    "Estas operaciones no modifican el arreglo original, sino que devuelven un nuevo arreglo con el resultado de la operación."
   ]
  },
  {
   "cell_type": "code",
   "execution_count": 16,
   "id": "5613a4be-b480-4b07-a3eb-b302de3b1522",
   "metadata": {},
   "outputs": [
    {
     "data": {
      "text/plain": [
       "array([0.1, 0.2, 0.3, 0.4, 0.5])"
      ]
     },
     "execution_count": 16,
     "metadata": {},
     "output_type": "execute_result"
    }
   ],
   "source": [
    "a = np.array([1, 2, 3, 4, 5])\n",
    "a + 10\n",
    "a - 10\n",
    "a * 10\n",
    "a / 10"
   ]
  },
  {
   "cell_type": "markdown",
   "id": "2ffd6672-250c-41de-9d7d-caa097882806",
   "metadata": {},
   "source": [
    "También podemos realizar operaciones entre dos arreglos. Para que estas operaciones sean válidas, los arreglos deben tener\n",
    "el mismo tamaño, es decir, el mismo número de elementos."
   ]
  },
  {
   "cell_type": "code",
   "execution_count": 17,
   "id": "2c4991cc-da86-450a-b267-bfd1b8b518c5",
   "metadata": {},
   "outputs": [
    {
     "data": {
      "text/plain": [
       "array([ 4,  7, 12,  9,  6])"
      ]
     },
     "execution_count": 17,
     "metadata": {},
     "output_type": "execute_result"
    }
   ],
   "source": [
    "a = np.array([1, 2, 3, 4, 5])\n",
    "b = np.array([3, 5, 9, 5, 1])\n",
    "a + b"
   ]
  },
  {
   "cell_type": "markdown",
   "id": "8403d926-6dec-4038-a7f9-d5b43ea14d6c",
   "metadata": {},
   "source": [
    "Podemos decidir que tipo de datos queremos que tenga nuestro arreglo.Basta con especificarlo en el parámetro dtype al \n",
    "momento de crear el arreglo. Pueden ser cualquier tipo de dato que soporte numpy. float, int, complex, bool, etc."
   ]
  },
  {
   "cell_type": "code",
   "execution_count": 18,
   "id": "2ec7ccda-b217-41a8-9068-55b6295c8c87",
   "metadata": {},
   "outputs": [],
   "source": [
    "a = np.array([1, 2, 3, 4, 5], dtype=float)"
   ]
  },
  {
   "cell_type": "markdown",
   "id": "8133b155-a56e-489d-8e81-bdd0846cb6ba",
   "metadata": {},
   "source": [
    "### Funciones para crear arreglos\n",
    "\n",
    "Podemos especificar el tamaño del arreglo, indicando el número de elementos que queremos. El primer parámetro es el valor \n",
    "inicial, el segundo es el valor final y el tercer parámetro es el paso entre cada elemento. En este caso, el primer parametro \n",
    "indica que empieza en 0, el segundo infdica que termina en 100 y el tercer parametro indica que se listara de 2 en 2.\n",
    "Cabe recalcar que el valor final no se incluye en el resultado del arreglo, entonces, los arreglos terminan en la cantidad \n",
    "menos 1 o el valor indicado en el tercer elemento. Dicho todo eso, el resultado seria un arreglo que va de 0 a 98 de 2 en 2."
   ]
  },
  {
   "cell_type": "code",
   "execution_count": 19,
   "id": "1d941303-fafc-4d21-a403-3c8f74b76ed8",
   "metadata": {},
   "outputs": [
    {
     "data": {
      "text/plain": [
       "array([ 0,  2,  4,  6,  8, 10, 12, 14, 16, 18, 20, 22, 24, 26, 28, 30, 32,\n",
       "       34, 36, 38, 40, 42, 44, 46, 48, 50, 52, 54, 56, 58, 60, 62, 64, 66,\n",
       "       68, 70, 72, 74, 76, 78, 80, 82, 84, 86, 88, 90, 92, 94, 96, 98])"
      ]
     },
     "execution_count": 19,
     "metadata": {},
     "output_type": "execute_result"
    }
   ],
   "source": [
    "np.arange(0, 100, 2)"
   ]
  },
  {
   "cell_type": "markdown",
   "id": "c409771d-7bae-4362-bc4a-0fdde9185cee",
   "metadata": {},
   "source": [
    "Podemos crear arreglos de ceros. El parametro indica la cantidad de elementos, en este caso ceros, que tendra el arreglo. \n",
    "Los ceros por default son de tipo float, pero podemos especificar el tipo de dato con el parametro dtype mostrado anteriormente."
   ]
  },
  {
   "cell_type": "code",
   "execution_count": 20,
   "id": "dbefb66d-88d5-497c-befa-efe9d68c68ed",
   "metadata": {},
   "outputs": [
    {
     "data": {
      "text/plain": [
       "array([0., 0., 0., 0., 0., 0., 0., 0., 0., 0.])"
      ]
     },
     "execution_count": 20,
     "metadata": {},
     "output_type": "execute_result"
    }
   ],
   "source": [
    "np.zeros(10)"
   ]
  },
  {
   "cell_type": "markdown",
   "id": "7131ad24-f2c2-4d1d-a5c3-2c498d9a9a91",
   "metadata": {},
   "source": [
    "Tambien podemos crear arreglos de unos. Y es igual que con los ceros."
   ]
  },
  {
   "cell_type": "code",
   "execution_count": 21,
   "id": "8557526c-f350-48c8-8b79-a59dbab5021f",
   "metadata": {},
   "outputs": [
    {
     "data": {
      "text/plain": [
       "array([1., 1., 1., 1., 1., 1., 1., 1., 1., 1.])"
      ]
     },
     "execution_count": 21,
     "metadata": {},
     "output_type": "execute_result"
    }
   ],
   "source": [
    "np.ones(10)"
   ]
  },
  {
   "cell_type": "markdown",
   "id": "013bf71a-b98f-461f-adbe-805b9eec29f7",
   "metadata": {},
   "source": [
    "Con empty podemos crear arreglos con elementos 'basura', es decir, elementos que no tienen un valor definido."
   ]
  },
  {
   "cell_type": "code",
   "execution_count": 22,
   "id": "8a1555af-34d1-4674-8966-954d41fd9c2b",
   "metadata": {},
   "outputs": [
    {
     "data": {
      "text/plain": [
       "array([1., 1., 1., 1., 1., 1., 1., 1., 1., 1.])"
      ]
     },
     "execution_count": 22,
     "metadata": {},
     "output_type": "execute_result"
    }
   ],
   "source": [
    "np.empty(10)"
   ]
  },
  {
   "cell_type": "markdown",
   "id": "9fd18eda-d921-4a57-a5fa-a8cdc5adab72",
   "metadata": {},
   "source": [
    "Con ramdom.radint podemos crear arreglos con números aleatorios enteros. El primer parámetro indica el valor minimo (incluido),\n",
    "el segundo parametro indica el valor máximo (no incluido) y el tercer parámetro indica la cantidad de elementos que tendrá el arreglo. En este caso, el arreglo tendrá 10 elementos con valores entre 0 y 99."
   ]
  },
  {
   "cell_type": "code",
   "execution_count": 23,
   "id": "e220b5d9-015a-4126-866d-ca71e2d2e3a7",
   "metadata": {},
   "outputs": [
    {
     "data": {
      "text/plain": [
       "array([25, 82, 63, 21, 12, 21, 33, 78, 93, 19])"
      ]
     },
     "execution_count": 23,
     "metadata": {},
     "output_type": "execute_result"
    }
   ],
   "source": [
    "np.random.randint(0, 100, 10)"
   ]
  },
  {
   "cell_type": "markdown",
   "id": "564b3162-af79-47d2-a325-513f6845f610",
   "metadata": {},
   "source": [
    "### Obtener y modificar elementos de un arreglo.\n",
    "\n",
    "Podemos saber el valor de un elemento en especifico utilizando su índice. En los siguientes ejemplo, se obtiene el primer elemento al utilizar el índice 0, el tercer elemento al utilizar el índice 2 y el penúltimo elemento al utilizar el índice -2.\n",
    "Recuerda que los indices emplezan de 0 y que el indice -1 hace referencia al último elemento del arreglo.\n",
    "Los arreglos se 'leen' de izquierda a derecha con numeros positivos y de derecha a izquierda con numeros negativos."
   ]
  },
  {
   "cell_type": "code",
   "execution_count": 24,
   "id": "c651f0ff-b8d3-4db5-970d-269c05e30511",
   "metadata": {},
   "outputs": [
    {
     "data": {
      "text/plain": [
       "43"
      ]
     },
     "execution_count": 24,
     "metadata": {},
     "output_type": "execute_result"
    }
   ],
   "source": [
    "a = np.random.randint(0, 100, 10)\n",
    "\n",
    "a[0]\n",
    "a[2]\n",
    "a[-2]"
   ]
  },
  {
   "cell_type": "markdown",
   "id": "ba495fa8-ca67-48ff-b3bd-cbbd1eee1660",
   "metadata": {},
   "source": [
    "Podemos modificar el valor de un elemento en especifico utilizando su índice\n",
    "y asignandole un nuevo valor. En este caso, se modifica el primer elemento del arreglo a 100."
   ]
  },
  {
   "cell_type": "code",
   "execution_count": 25,
   "id": "cec1c9e0-a93d-4a40-81fc-e42296279b0e",
   "metadata": {},
   "outputs": [],
   "source": [
    "a[0] = 100"
   ]
  },
  {
   "cell_type": "markdown",
   "id": "e08daf98-0716-45b5-bb3d-2c91b54b6e45",
   "metadata": {},
   "source": [
    "### Subarreglos\n",
    "\n",
    "Podemos obtener un subarreglo, es decir, una parte del arreglo original.\n",
    "Para ello, utilizamos la notación de slicing [], que es similar a la que se utiliza en las listas de python.\n",
    "El primer parámetro indica el índice de inicio, el segundo el índice de fin y el tercero el paso.\n",
    "En este caso, estamos obteniendo un subarreglo que comienza en el índice 2, termina en el índice 10 (sin incluirlo) y toma elementos de 2 en 2."
   ]
  },
  {
   "cell_type": "code",
   "execution_count": 26,
   "id": "535bacf0-df06-43e6-873c-c1da7cfb7520",
   "metadata": {},
   "outputs": [
    {
     "data": {
      "text/plain": [
       "array([ 9,  7, 45, 65])"
      ]
     },
     "execution_count": 26,
     "metadata": {},
     "output_type": "execute_result"
    }
   ],
   "source": [
    "a = np.array([5, 8, 9, 6, 7, 62, 45, 25, 65, 84, 25, 1, 4,])\n",
    "a[2:10:2]"
   ]
  },
  {
   "cell_type": "markdown",
   "id": "ddcc7d54-95cb-42e6-9f27-bb7c506e3fb7",
   "metadata": {},
   "source": [
    "Tambien podemos obtener un subarreglo utilizando una lista de indices.\n",
    "En este caso, estamos obteniendo un subarreglo con los elementos en los indices 2. 8, y 11."
   ]
  },
  {
   "cell_type": "code",
   "execution_count": 27,
   "id": "7bac84b6-dd4f-4f3b-ad63-1df68cd37820",
   "metadata": {},
   "outputs": [
    {
     "data": {
      "text/plain": [
       "array([ 9, 65,  1])"
      ]
     },
     "execution_count": 27,
     "metadata": {},
     "output_type": "execute_result"
    }
   ],
   "source": [
    "a[ [2, 8, 11]]"
   ]
  },
  {
   "cell_type": "markdown",
   "id": "8222dffb-5adf-4273-84f8-c7acacda2df9",
   "metadata": {},
   "source": [
    "Otra forma de obtener un subarreglo es utilizando una lista de booleanos.\n",
    "Los elementos que se obtienen para el subarreglo son aquellos que tienen un True en la lista de booleanos.\n",
    "False indica que el elemento no se incluye en el subarreglo.\n",
    "La lista de booleanos debe tener la misma cantidad de elementos que el arreglo original.\n",
    "En este caso, se obtiene un subarreglo con los elementos en las posiciones 0, 2, 7 y 11. \n",
    "\n",
    "Esta manera de obtener subarrelos con booleanos es muy útil para condicionar la obtención de elementos."
   ]
  },
  {
   "cell_type": "code",
   "execution_count": 28,
   "id": "7653b3bb-3bf3-43e2-825c-d58ed6995360",
   "metadata": {},
   "outputs": [
    {
     "data": {
      "text/plain": [
       "array([ 5,  9, 25,  1])"
      ]
     },
     "execution_count": 28,
     "metadata": {},
     "output_type": "execute_result"
    }
   ],
   "source": [
    "a[ [True, False, True, False, False, False, False, True, False, False, False, True, False] ]"
   ]
  },
  {
   "cell_type": "markdown",
   "id": "c4b3471c-e566-45c7-be7d-17b2f89978a0",
   "metadata": {},
   "source": [
    "### Vectorizar funciones\n",
    "\n",
    "Podemos aplicar una funcion a un elemento de un arreglo.\n",
    "En este caso, obtendremos el cuadrado de 6, que es el numero que se pasa como parametro a la funcion."
   ]
  },
  {
   "cell_type": "code",
   "execution_count": 29,
   "id": "ba897b78-0e7e-468f-84f3-5b7159e2070d",
   "metadata": {},
   "outputs": [],
   "source": [
    "a = np.array([5, 8, 9, 6, 7, 62, 45, 25, 65, 84, 25, 1, 4,])"
   ]
  },
  {
   "cell_type": "code",
   "execution_count": 30,
   "id": "35094ec9-4046-4ff4-8736-d93f26e26f90",
   "metadata": {},
   "outputs": [
    {
     "data": {
      "text/plain": [
       "38"
      ]
     },
     "execution_count": 30,
     "metadata": {},
     "output_type": "execute_result"
    }
   ],
   "source": [
    "def operacion(valor):\n",
    "    return (valor ** 2) +2\n",
    "\n",
    "operacion (6)"
   ]
  },
  {
   "cell_type": "markdown",
   "id": "49faadee-42de-477f-9aa4-498d0e4136b4",
   "metadata": {},
   "source": [
    "Se puede aplicar un ciclo for para aplicar la funcion a cada elemento del arreglo.\n",
    "En este caso, se aobtendra el cuadrado de cada elmento del arreglo \"a\"."
   ]
  },
  {
   "cell_type": "code",
   "execution_count": 31,
   "id": "a4704746-bffe-4657-9fc7-914b8ccd696f",
   "metadata": {},
   "outputs": [
    {
     "name": "stdout",
     "output_type": "stream",
     "text": [
      "27\n",
      "66\n",
      "83\n",
      "38\n",
      "51\n",
      "3846\n",
      "2027\n",
      "627\n",
      "4227\n",
      "7058\n",
      "627\n",
      "3\n",
      "18\n"
     ]
    }
   ],
   "source": [
    "for valor in a:\n",
    "    print(operacion(valor))"
   ]
  },
  {
   "cell_type": "markdown",
   "id": "d5bfd232-9f02-47ed-8326-e4f22b2bc807",
   "metadata": {},
   "source": [
    "Lo anterior es valido, pero existe una forma más eficiente de aplicar una funcion a cada elemento de un arreglo.\n",
    "Para ello, utilizamos la función np.vectorize, que toma como parámetro la funcion que queremos aplicar\n",
    "y devuelve un nuevo arreglo con el resultado que se obtiene al aplicar la función a cada elemento.\n",
    "En este caso, se obtiene un nuevo arreglo con el cuadrado de cada elemento."
   ]
  },
  {
   "cell_type": "code",
   "execution_count": 32,
   "id": "df53e0af-0df8-455c-ab37-d7b4a5fb3a95",
   "metadata": {},
   "outputs": [
    {
     "data": {
      "text/plain": [
       "array([  27,   66,   83,   38,   51, 3846, 2027,  627, 4227, 7058,  627,\n",
       "          3,   18])"
      ]
     },
     "execution_count": 32,
     "metadata": {},
     "output_type": "execute_result"
    }
   ],
   "source": [
    "vector =np.vectorize(operacion)\n",
    "vector(a)"
   ]
  },
  {
   "cell_type": "markdown",
   "id": "c1119587-676f-4f22-bd40-efa62fef7e48",
   "metadata": {},
   "source": [
    "### Copias y vistas\n",
    "\n",
    "Podemos crear una copia de un arreglo utilizando el método copy(), aunque tengan los mismos valores y la misma\n",
    "cantidad de elementos, son dos arreglos diferentes en memoria, totalmente independientes.\n",
    "O sea, algo como hacer un cambio al arreglo b no afectará al arreglo a."
   ]
  },
  {
   "cell_type": "code",
   "execution_count": 27,
   "id": "180a8f9e-73e8-4794-abe7-2ebbbd10d9a4",
   "metadata": {},
   "outputs": [],
   "source": [
    "a = np.array([5, 8, 9, 6, 7, 62, 45, 25, 65, 84, 25, 1, 4,])"
   ]
  },
  {
   "cell_type": "code",
   "execution_count": 28,
   "id": "b835cd64-d129-43b4-9c00-cf7a859000f2",
   "metadata": {},
   "outputs": [],
   "source": [
    "b = a.copy()"
   ]
  },
  {
   "cell_type": "markdown",
   "id": "d879033e-3747-4ba8-96e5-e2be91c92390",
   "metadata": {},
   "source": [
    "Podemos crear una vista de un arreglo utilizando el método view().\n",
    "En este caso, son dos arreglos diferentes en memoria, pero comparten los mismos datos,\n",
    "es decir, si se hace un cambio en uno, el otro también se verá afectado."
   ]
  },
  {
   "cell_type": "code",
   "execution_count": 29,
   "id": "65f09f8c-042a-4374-a6e1-c1e77ca82cd2",
   "metadata": {},
   "outputs": [],
   "source": [
    "c = a.view()"
   ]
  },
  {
   "cell_type": "markdown",
   "id": "50f3a256-1500-41b5-abc4-49d304412eff",
   "metadata": {},
   "source": [
    "Aunque cada arreglo tiene un id diferente en memoria, el arreglo c tiene el id base del arreglo a,\n",
    "lo que indica su relacion."
   ]
  },
  {
   "cell_type": "code",
   "execution_count": 30,
   "id": "bc571af7-57b4-4246-9d43-ea871adf9952",
   "metadata": {},
   "outputs": [
    {
     "data": {
      "text/plain": [
       "133745820681584"
      ]
     },
     "execution_count": 30,
     "metadata": {},
     "output_type": "execute_result"
    }
   ],
   "source": [
    "id(c.base)"
   ]
  },
  {
   "cell_type": "markdown",
   "id": "b9c828dd-2122-458f-9157-c0a1bb442465",
   "metadata": {},
   "source": [
    "### Matrices\n",
    "\n",
    "Podemos crear matrices, que son arreglos bidimensionales, que contienen una lista de listas. \n",
    "Estas matrices están compuestas por filas y columnas, cada fila es una lista y cada columna es un elemento de la lista.\n",
    "En este caso, tenemos una matriz de 3 filas y 4 columnas."
   ]
  },
  {
   "cell_type": "code",
   "execution_count": 31,
   "id": "b5123198-fb66-4176-bea4-3d121e90ae7f",
   "metadata": {},
   "outputs": [],
   "source": [
    "A = np.array( [\n",
    "    [1, 2, 3, 4],\n",
    "    [5, 6, 7, 8],\n",
    "    [9, 10, 11, 12]\n",
    "])"
   ]
  },
  {
   "cell_type": "markdown",
   "id": "f1c22f07-0405-4f3e-8a52-48a6d350b601",
   "metadata": {},
   "source": [
    "Al igual que con los arreglos, podemos obtener el tamaño, número de dimensiones, tipo de dato y forma de la matriz.\n",
    "En este caso, A.ndim nos indica que es una matriz, ya que el resultado de ejecutar A.ndim sera 2.\n",
    "A.shape nos indica que la matriz tiene 3 filas y 4 columnas, mostrando en resultado (3, 4)."
   ]
  },
  {
   "cell_type": "code",
   "execution_count": 32,
   "id": "c5763b61-d6b7-480e-ac54-9b64e8ded70f",
   "metadata": {},
   "outputs": [
    {
     "data": {
      "text/plain": [
       "(3, 4)"
      ]
     },
     "execution_count": 32,
     "metadata": {},
     "output_type": "execute_result"
    }
   ],
   "source": [
    "A.ndim\n",
    "A.shape"
   ]
  },
  {
   "cell_type": "markdown",
   "id": "e5044c1e-33eb-4b0d-babb-265d568b40f2",
   "metadata": {},
   "source": [
    "Podemos obtener un elemento en especifico de la matriz utilizando dos indices,\n",
    "el primer indice indica la fila y el segundo indice indica la columna.\n",
    "En el primer ejemplo se obtiene el elemento en la fila 0 y la columna 3, es decir, el numero 4. \n",
    "En el segundo ejemplo se obtiene el elemento en la fila 2 y la columna 2, es decir, el numero 11.\n",
    "Recordemos que la lista de filas y columnas comienza en 0, es decir, si queremos obtener datos de la primer fila, debemos indicar 0.\n",
    "Entonces, si nuestra matriz tiene 3 filas, para obtener datos de la tercer fila tendremos que indicar 2."
   ]
  },
  {
   "cell_type": "code",
   "execution_count": 39,
   "id": "9b47f134-2b95-4a19-985f-0ef0d0814c99",
   "metadata": {},
   "outputs": [
    {
     "data": {
      "text/plain": [
       "11"
      ]
     },
     "execution_count": 39,
     "metadata": {},
     "output_type": "execute_result"
    }
   ],
   "source": [
    "A[0][3]\n",
    "A[2][2]"
   ]
  },
  {
   "cell_type": "markdown",
   "id": "1c9009b6-3ff6-48ef-ba68-ab5b01e95ebf",
   "metadata": {},
   "source": [
    "Esta es una segunda opcion de como obtener elementos en especifico de la matriz.\n",
    "Basicamente es lo mismo, pero los parametros se encuentran en los mismos [] y separados por una coma.\n",
    "ESta segunada manera es la mas utilizada."
   ]
  },
  {
   "cell_type": "code",
   "execution_count": 40,
   "id": "c78ef4ee-c1e3-4c8d-a8aa-0860cecaeca8",
   "metadata": {},
   "outputs": [
    {
     "data": {
      "text/plain": [
       "11"
      ]
     },
     "execution_count": 40,
     "metadata": {},
     "output_type": "execute_result"
    }
   ],
   "source": [
    "A[0, 3]\n",
    "A[2][2]"
   ]
  },
  {
   "cell_type": "markdown",
   "id": "c5312cca-a889-4d46-a36f-b05288baa46b",
   "metadata": {},
   "source": [
    "Podemos obtener subarreglos apartir de las filas y columnas.\n",
    "En este caso, el primer parametro indica la fila de donde se extraeran los datos, el segundo parametro (acompañado de \":\" antes del numero)\n",
    "nos indica la cantidad de elementos que se obtendran de la fila indicada."
   ]
  },
  {
   "cell_type": "code",
   "execution_count": 41,
   "id": "5bd2f6ed-88b6-411b-9f8e-96e064c93e92",
   "metadata": {},
   "outputs": [
    {
     "data": {
      "text/plain": [
       "array([ 9, 10])"
      ]
     },
     "execution_count": 41,
     "metadata": {},
     "output_type": "execute_result"
    }
   ],
   "source": [
    "A[1, :3]\n",
    "A[2, :2]"
   ]
  },
  {
   "cell_type": "markdown",
   "id": "3a8402ce-a03a-4a7b-8c18-106748e703c5",
   "metadata": {},
   "source": [
    "Si queremos obtener los utimos datos de la fila, solo debemos colocar los \":\" despues de indicar el segundo parametro."
   ]
  },
  {
   "cell_type": "code",
   "execution_count": 42,
   "id": "15b195fd-5067-4dd8-b7f8-b582edc5293c",
   "metadata": {},
   "outputs": [
    {
     "data": {
      "text/plain": [
       "array([11, 12])"
      ]
     },
     "execution_count": 42,
     "metadata": {},
     "output_type": "execute_result"
    }
   ],
   "source": [
    "A[2, 2:]"
   ]
  },
  {
   "cell_type": "markdown",
   "id": "d131d36f-ae99-4b5f-a3ba-01ef07c41925",
   "metadata": {},
   "source": [
    "Podemos obtener valores atravez de indices. Basta con definir una lista de los indices.\n",
    "Al igual que en el ejemplo, el primer parametro indica la fila de donde se extraeran los datos,\n",
    "despues, dentro de [] se colocaran los indices de los datos que se quieren extraer.\n",
    "Es decir, en el ejemplo obtendremos los valores en el indice 0 y 4, de la fila 0."
   ]
  },
  {
   "cell_type": "code",
   "execution_count": 44,
   "id": "bc3550e8-a8a2-4443-95ca-f78fe0d68b8c",
   "metadata": {},
   "outputs": [
    {
     "data": {
      "text/plain": [
       "array([1, 4])"
      ]
     },
     "execution_count": 44,
     "metadata": {},
     "output_type": "execute_result"
    }
   ],
   "source": [
    "A[0,[0,3]]"
   ]
  },
  {
   "cell_type": "markdown",
   "id": "bf385c21-d0ae-4c70-b9ef-27129affb27d",
   "metadata": {},
   "source": [
    "Tambien podemos obtener elementos de todas las filas y en la misma columna. \n",
    "En el ejemplo obtendremos los elementos de todas lss filas que estan en la columna 3.\n",
    "EL no indicar nada en el primer parametro le dice al programa que se obtendran elementos de todas ls filas,\n",
    "el segundo parametro indica de que columna se obtendran los elementos."
   ]
  },
  {
   "cell_type": "code",
   "execution_count": 45,
   "id": "d296d214-8042-45ef-a61f-e104841c8195",
   "metadata": {},
   "outputs": [
    {
     "data": {
      "text/plain": [
       "array([ 4,  8, 12])"
      ]
     },
     "execution_count": 45,
     "metadata": {},
     "output_type": "execute_result"
    }
   ],
   "source": [
    "A[:,3]"
   ]
  },
  {
   "cell_type": "markdown",
   "id": "24ec0150-7d49-4216-9787-c31002395e77",
   "metadata": {},
   "source": [
    "Tambien podemos obtener valores de filas muy puntuales.\n",
    "En el ejemplo, el primer parametro esta indicado con [0, 2], que indica de que filas obtendremos los elementos,\n",
    "el segundo parametro, que es 3, indica la columna de la que se obtendran los elementos."
   ]
  },
  {
   "cell_type": "code",
   "execution_count": 46,
   "id": "eccba2e9-7fe5-4eb4-94e9-ee64369f5a4b",
   "metadata": {},
   "outputs": [
    {
     "data": {
      "text/plain": [
       "array([ 4, 12])"
      ]
     },
     "execution_count": 46,
     "metadata": {},
     "output_type": "execute_result"
    }
   ],
   "source": [
    "A[[0, 2], 3]"
   ]
  },
  {
   "cell_type": "markdown",
   "id": "a2042dc2-e6a9-4567-bcbe-9de7941d7162",
   "metadata": {},
   "source": [
    "### Métodos de agregación"
   ]
  },
  {
   "cell_type": "code",
   "execution_count": 25,
   "id": "da411c15-1af0-42df-ba01-18ed50065683",
   "metadata": {},
   "outputs": [],
   "source": [
    "A = np.array( [\n",
    "    [1, 2, 3, 4],\n",
    "    [5, 6, 7, 8],\n",
    "    [9, 10, 11, 12]\n",
    "])"
   ]
  },
  {
   "cell_type": "markdown",
   "id": "a67bd3db-7e84-4943-8a43-2f493d9cbe62",
   "metadata": {},
   "source": [
    "Con std() podremos conocer la desviación estandar del arreglo.\n",
    "Con sum() obtendremos la suma total de todos los elementos.\n",
    "Con min() conoceremeos el valor minimo existente en el arreglo.\n",
    "Con max() conoceremos el valor maximo existente en el arreglo.\n",
    "Con mean() conoceremos el promedio."
   ]
  },
  {
   "cell_type": "code",
   "execution_count": 26,
   "id": "4cb5636e-809d-4502-a38f-ba68ed617f2c",
   "metadata": {},
   "outputs": [
    {
     "data": {
      "text/plain": [
       "6.5"
      ]
     },
     "execution_count": 26,
     "metadata": {},
     "output_type": "execute_result"
    }
   ],
   "source": [
    "A.std()\n",
    "A.sum()\n",
    "A.min()\n",
    "A.max()\n",
    "A.mean()"
   ]
  },
  {
   "cell_type": "markdown",
   "id": "f6288c4e-e1e9-45df-89d6-8fbbfe87ae2b",
   "metadata": {},
   "source": [
    "Tambien podemos sumar solo los valores de una fila en concreto.\n",
    "Basta con agregar el numero de la fula entre [], en este caso obtendremos la suma de la fila 1.\n",
    "De igual manera se puede aplicar los metodos min, max, etc, para cualquier fila."
   ]
  },
  {
   "cell_type": "code",
   "execution_count": 49,
   "id": "ecab0963-e4ff-42ee-afde-6b67945f6431",
   "metadata": {},
   "outputs": [
    {
     "data": {
      "text/plain": [
       "26"
      ]
     },
     "execution_count": 49,
     "metadata": {},
     "output_type": "execute_result"
    }
   ],
   "source": [
    "A[1].sum()"
   ]
  },
  {
   "cell_type": "markdown",
   "id": "c6be814a-73dc-4072-896c-2d2cf710340a",
   "metadata": {},
   "source": [
    "En el caso de las columnas, podemos hacerlo como se muestra en el siguiente ejemplo. \n",
    "Dentro de [] en el primer parametro solo dejamos : para indicar que se tomaran los elementos de todas las filas,\n",
    "en el segundo parametro se indica el numero de la columna donde tomaremos los elementos.\n",
    "En este caso, obtendremoas el promedio y suma de todos los elementos de la columna 2."
   ]
  },
  {
   "cell_type": "code",
   "execution_count": 50,
   "id": "3d6e06b4-1805-4a15-a7f3-0705eeec5e4e",
   "metadata": {},
   "outputs": [
    {
     "data": {
      "text/plain": [
       "21"
      ]
     },
     "execution_count": 50,
     "metadata": {},
     "output_type": "execute_result"
    }
   ],
   "source": [
    "A[:, 2].mean()\n",
    "A[:, 2].sum()"
   ]
  },
  {
   "cell_type": "markdown",
   "id": "6473eaf0-edab-413e-81d9-8dd4455c6bf0",
   "metadata": {},
   "source": [
    "### Transposición\n",
    "\n",
    "Una transposición es hacer que las filas se conviertan en columnas y las columnas en filas.\n",
    "Basta con agregar .T para realizarlo."
   ]
  },
  {
   "cell_type": "code",
   "execution_count": 51,
   "id": "e3b71e87-8caf-482a-9b6f-97b8345c09be",
   "metadata": {},
   "outputs": [
    {
     "data": {
      "text/plain": [
       "array([[ 1,  5,  9],\n",
       "       [ 2,  6, 10],\n",
       "       [ 3,  7, 11],\n",
       "       [ 4,  8, 12]])"
      ]
     },
     "execution_count": 51,
     "metadata": {},
     "output_type": "execute_result"
    }
   ],
   "source": [
    "A.T"
   ]
  },
  {
   "cell_type": "markdown",
   "id": "18e3faa1-afd6-41d2-b4fa-15b0830221fb",
   "metadata": {},
   "source": [
    "Podemos sumar los elementos de las filas haciendo primero la trasposición.\n",
    "Solo añadimos el numero de la fila a sumar entre [] y el parametro .sum(). \n",
    "EL resultado obtenido seria el mismo que obtendriamos de A[:, 2].sum(), que es parte de lo aprendido\n",
    "unas lineas arriba."
   ]
  },
  {
   "cell_type": "code",
   "execution_count": 52,
   "id": "a4ed8169-a283-4d45-b883-dbe67a80b52d",
   "metadata": {},
   "outputs": [
    {
     "data": {
      "text/plain": [
       "21"
      ]
     },
     "execution_count": 52,
     "metadata": {},
     "output_type": "execute_result"
    }
   ],
   "source": [
    "A.T[2].sum()"
   ]
  },
  {
   "cell_type": "markdown",
   "id": "e4214c8f-94b5-43a6-9b46-1bb7ff3af399",
   "metadata": {},
   "source": [
    "### Filtros y condiciones."
   ]
  },
  {
   "cell_type": "code",
   "execution_count": 53,
   "id": "01dac76e-c910-4420-b3d7-3e418e974442",
   "metadata": {},
   "outputs": [],
   "source": [
    "a = np.array([5, 8, 9, 6, 7, 62, 45, 25, 65, 84, 25, 1, 4,])"
   ]
  },
  {
   "cell_type": "markdown",
   "id": "db59c419-3140-42ae-8ad6-2fd828c6c9ac",
   "metadata": {},
   "source": [
    "Podemos condicionar la obtención de valores en nuestro arreglo utilizando operadores logicos. \n",
    "En este caso, estamos pidiendo los valores que sean mayores a 50.Pero no es que nos dara los numeros mayores a 50 como \n",
    "resultado, lo que obtendremos es un arreglo de boleanos True y False con la misma longitut que el arreglo original, \n",
    "los valores True estaran ubicados en la misma posición que los valores mayores a 50, mientras que False estara en las \n",
    "ubicaciones de los valores menores a 50. La salida mostrara algo como \"array([False, False, True, True]), \n",
    "dependiendo del varon y posicion de los elementos."
   ]
  },
  {
   "cell_type": "code",
   "execution_count": 54,
   "id": "c1f2f0b8-8210-4e2e-86d6-e6d01bd556ae",
   "metadata": {},
   "outputs": [
    {
     "data": {
      "text/plain": [
       "array([False, False, False, False, False,  True, False, False,  True,\n",
       "        True, False, False, False])"
      ]
     },
     "execution_count": 54,
     "metadata": {},
     "output_type": "execute_result"
    }
   ],
   "source": [
    "a > 50"
   ]
  },
  {
   "cell_type": "markdown",
   "id": "c2db43d8-6c00-4f11-8e56-6f006939a199",
   "metadata": {},
   "source": [
    "Para obtener un arreglo solo con los valores que cumplen con la condición y no un arreglo de booleanos,\n",
    "Basta con agregar la condicion entre []."
   ]
  },
  {
   "cell_type": "code",
   "execution_count": 55,
   "id": "af80be2a-af30-44ef-ba63-462a35f52163",
   "metadata": {},
   "outputs": [
    {
     "data": {
      "text/plain": [
       "array([62, 65, 84])"
      ]
     },
     "execution_count": 55,
     "metadata": {},
     "output_type": "execute_result"
    }
   ],
   "source": [
    "a[a > 50]"
   ]
  },
  {
   "cell_type": "markdown",
   "id": "de5b4c47-613f-42db-a6f7-22a35fa66c3f",
   "metadata": {},
   "source": [
    "Para poder agregar mas condiciones a nuestro arreglo, basta con agregar cada condicion dentro de ()\n",
    "y el simbolo & entre las condiciones.\n",
    "En este caso obtendremos solo los valores mayores a 20 y menores que 50."
   ]
  },
  {
   "cell_type": "code",
   "execution_count": 56,
   "id": "1b340e0d-05ef-4899-9fd9-328d5427a0b0",
   "metadata": {},
   "outputs": [
    {
     "data": {
      "text/plain": [
       "array([45, 25, 25])"
      ]
     },
     "execution_count": 56,
     "metadata": {},
     "output_type": "execute_result"
    }
   ],
   "source": [
    "a[(a > 20) & (a < 50)]"
   ]
  },
  {
   "cell_type": "markdown",
   "id": "bdfb945d-381f-4b21-b224-f7db95421f2b",
   "metadata": {},
   "source": [
    "Para trabajar con el operador Or basta con implementar el simbolo |.\n",
    "En este caso, obtedremos los valores que sean iguales a 20 o igyales a 50."
   ]
  },
  {
   "cell_type": "code",
   "execution_count": 57,
   "id": "5dffb711-787d-412a-97d3-2959741a8f2b",
   "metadata": {},
   "outputs": [
    {
     "data": {
      "text/plain": [
       "array([], dtype=int64)"
      ]
     },
     "execution_count": 57,
     "metadata": {},
     "output_type": "execute_result"
    }
   ],
   "source": [
    "a[(a == 20) | (a == 50)]"
   ]
  },
  {
   "cell_type": "markdown",
   "id": "fc54ef95-44c0-4a53-b75d-ca1d0721f728",
   "metadata": {},
   "source": [
    "### Condiciones\n",
    "\n",
    "Para saber si todos los elementos de un arreglo cumplen o no con una condición,\n",
    "basta con utilizar el método .all(). Dentro de () debemos colocar la condición a cumplir.\n",
    "En el ejemplo 1 revisamos si todos los elementos son mayores a 50\n",
    "y en el ejemplo 2 revisamos si todos los elementos son mayores o iguales a 0.\n",
    "Los resultados se muestran con valores booleanos, True y False.\n",
    "Es decir, si todos los elementos cumplen con la condición, el resultado será True,\n",
    "si no todos los elementos, aun que sea 1, no cumplen con la condición, el resultado será False."
   ]
  },
  {
   "cell_type": "code",
   "execution_count": 58,
   "id": "abb26c2d-d3e5-4dc9-8457-1c2c09f6a095",
   "metadata": {},
   "outputs": [
    {
     "data": {
      "text/plain": [
       "True"
      ]
     },
     "execution_count": 58,
     "metadata": {},
     "output_type": "execute_result"
    }
   ],
   "source": [
    "np.all(a > 50)\n",
    "np.all(a >= 0)"
   ]
  },
  {
   "cell_type": "markdown",
   "id": "856fc22f-1dde-49db-95e8-608b5c53594b",
   "metadata": {},
   "source": [
    "Podemos hacer uso de varias condiciones, solo que adiferencia de lo mostrado en la parte de Filtros y condiciones,\n",
    "las condiciones no se colocan dentro de [], se colocan dentro de () y cada condicion dentro de ()."
   ]
  },
  {
   "cell_type": "code",
   "execution_count": 59,
   "id": "b0bfb0f4-57f6-4142-a4e8-c552b5d3509b",
   "metadata": {},
   "outputs": [
    {
     "data": {
      "text/plain": [
       "False"
      ]
     },
     "execution_count": 59,
     "metadata": {},
     "output_type": "execute_result"
    }
   ],
   "source": [
    "np.all((a == 20) | (a == 50))"
   ]
  },
  {
   "cell_type": "markdown",
   "id": "a25ac688-49a4-498e-b14b-cd3ec7db10c6",
   "metadata": {},
   "source": [
    "Con .any() podemos saber si por lo menos algun elemento de nuestro arreglo cumple con la y/o las condiciones."
   ]
  },
  {
   "cell_type": "code",
   "execution_count": 60,
   "id": "8a7d1fe9-5d67-4b8b-b3f8-132183edb0bd",
   "metadata": {},
   "outputs": [
    {
     "data": {
      "text/plain": [
       "True"
      ]
     },
     "execution_count": 60,
     "metadata": {},
     "output_type": "execute_result"
    }
   ],
   "source": [
    "np.any(a > 20)"
   ]
  },
  {
   "cell_type": "markdown",
   "id": "2eda17c4-9fa8-40da-b042-eba825b93938",
   "metadata": {},
   "source": [
    "### Funciones Where y Select\n",
    "\n",
    "Where y Select nos permiten crear nuevos arreglos a partir de condiciones y opciones."
   ]
  },
  {
   "cell_type": "code",
   "execution_count": 12,
   "id": "b12477a7-c9e3-45fe-b883-2c9d8469ce28",
   "metadata": {},
   "outputs": [],
   "source": [
    "calificaciones = np.array( [8, 5, 9, 6, 9, 8, 5, 8, 2, 7])"
   ]
  },
  {
   "cell_type": "markdown",
   "id": "27482209-77ef-4d0e-b9b0-e90faf218382",
   "metadata": {},
   "source": [
    "Mediante la funcion where() vamos a crear un nuevo arreglo apartir de una condicion\n",
    "y dos tipos de valores (condiciones/mensajes), el primero para cuando la condicion se cumpla y el segundo para cuando no se cumpla.\n",
    "Lo que se obtiene es un arreglo de mensajes con la misma longitud del arreglo original.\n",
    "El primer mensaje estara en las posiciones en las que los valores cumplen la condicion,\n",
    "mientras que el segundo mensaje estara en las posiciones en las que los valores no cumplan la condicion."
   ]
  },
  {
   "cell_type": "code",
   "execution_count": 13,
   "id": "b8eeaa70-0c4c-45c2-8ee2-fa20f6cd25b0",
   "metadata": {},
   "outputs": [
    {
     "data": {
      "text/plain": [
       "array(['Felicidades, aprobaste la materia.',\n",
       "       'Lo sentimos, no aprobaste la materia.',\n",
       "       'Felicidades, aprobaste la materia.',\n",
       "       'Lo sentimos, no aprobaste la materia.',\n",
       "       'Felicidades, aprobaste la materia.',\n",
       "       'Felicidades, aprobaste la materia.',\n",
       "       'Lo sentimos, no aprobaste la materia.',\n",
       "       'Felicidades, aprobaste la materia.',\n",
       "       'Lo sentimos, no aprobaste la materia.',\n",
       "       'Felicidades, aprobaste la materia.'], dtype='<U37')"
      ]
     },
     "execution_count": 13,
     "metadata": {},
     "output_type": "execute_result"
    }
   ],
   "source": [
    "np.where(\n",
    "    calificaciones >= 7,\n",
    "    'Felicidades, aprobaste la materia.',\n",
    "    'Lo sentimos, no aprobaste la materia.'\n",
    ")"
   ]
  },
  {
   "cell_type": "markdown",
   "id": "153130ba-848f-4a3d-be79-a15c0bb69588",
   "metadata": {},
   "source": [
    "La funcion select sirve para hacer uso de mas de dos condiciones, para ello debemos seguir los siguiente pasos.\n",
    "\n",
    "Primero creamos una lista de condicionales."
   ]
  },
  {
   "cell_type": "code",
   "execution_count": 14,
   "id": "d08eba0a-ad33-427d-98eb-1bbb00001933",
   "metadata": {},
   "outputs": [],
   "source": [
    "condiciones = [\n",
    "    (calificaciones == 10),\n",
    "    ( (calificaciones == 8) | (calificaciones == 9)),\n",
    "    (calificaciones == 7),\n",
    "    (calificaciones < 7)\n",
    "]"
   ]
  },
  {
   "cell_type": "markdown",
   "id": "b755aaf0-01b1-4936-ba20-6e0db84ddf01",
   "metadata": {},
   "source": [
    "Despues creamos una lista de mensajes para cada condicion."
   ]
  },
  {
   "cell_type": "code",
   "execution_count": 15,
   "id": "af6f8753-b678-4576-be12-a02222c7043a",
   "metadata": {},
   "outputs": [],
   "source": [
    "mensajes = [\n",
    "    'Felicidades, aprobaste la materia con 10',\n",
    "    'Felicidades, aprobaste la materia',\n",
    "    'Aprobaste la materia',\n",
    "    'Lo sentimos, no aprobaste la materia'\n",
    "]"
   ]
  },
  {
   "cell_type": "markdown",
   "id": "4d2b6ee1-6c59-4b58-b85a-a793d7d9d4a1",
   "metadata": {},
   "source": [
    "Por ultimo hacemos uso de np.select().\n",
    "Dentro de los () agregamos la lista de condiciones en el primer parametro\n",
    "y la lista de mensajes en la segunda opcion.\n",
    "El resultado es igual al de where, un arreglo con los mensajes de la lista mensajes,\n",
    "los mensajes estaran en el lugar del arreglo que correcpondan a los elementos del arreglo original\n",
    "que cumplan tal o cual condicion."
   ]
  },
  {
   "cell_type": "code",
   "execution_count": 16,
   "id": "f8dfd7df-8c96-4c0b-8e31-a8cf4fe8b38d",
   "metadata": {},
   "outputs": [
    {
     "data": {
      "text/plain": [
       "array(['Felicidades, aprobaste la materia',\n",
       "       'Lo sentimos, no aprobaste la materia',\n",
       "       'Felicidades, aprobaste la materia',\n",
       "       'Lo sentimos, no aprobaste la materia',\n",
       "       'Felicidades, aprobaste la materia',\n",
       "       'Felicidades, aprobaste la materia',\n",
       "       'Lo sentimos, no aprobaste la materia',\n",
       "       'Felicidades, aprobaste la materia',\n",
       "       'Lo sentimos, no aprobaste la materia', 'Aprobaste la materia'],\n",
       "      dtype='<U40')"
      ]
     },
     "execution_count": 16,
     "metadata": {},
     "output_type": "execute_result"
    }
   ],
   "source": [
    "np.select(condiciones, mensajes)"
   ]
  },
  {
   "cell_type": "markdown",
   "id": "44858b7c-3646-4221-979f-de9d7853659e",
   "metadata": {},
   "source": [
    "NOTA: En el caso de where y select, si se modifica el arreglo original de donde esas dos funciones toman elementos,\n",
    "debemos volver a crear o correr los pasos para cada duncion, ya qie de lo contrario, los resultados obtenidos\n",
    "seran iguales a como se encontraba el arreglo originalmente y no con la actualizacion o cambio.\n",
    "Ademas, esto no es como las condicionales if y else, asi que antes de trabajar con estas funciones,\n",
    "debes evaluar todas las posibles condiciones o casos que se podrian dar en tu arreglo\n",
    "y trabajar sobre esos casos o condiciones."
   ]
  },
  {
   "cell_type": "code",
   "execution_count": 18,
   "id": "03b7cd79",
   "metadata": {},
   "outputs": [
    {
     "data": {
      "text/plain": [
       "array([9, 0, 3, 2, 6, 9, 4, 0, 9, 2])"
      ]
     },
     "execution_count": 18,
     "metadata": {},
     "output_type": "execute_result"
    }
   ],
   "source": [
    "a = np.random.randint(0,10,10)\n",
    "a"
   ]
  },
  {
   "cell_type": "markdown",
   "id": "7fd7dd06",
   "metadata": {},
   "source": [
    "### Crear y leer archivos con Numpy\n",
    "\n",
    "La funcion savetxt nos permite guardar un arreglo en un archivo de texto. Los argumentos dentro de los () indican el nombre del archivo y el arreglo a guardar en el archivo."
   ]
  },
  {
   "cell_type": "code",
   "execution_count": 19,
   "id": "b55223d7",
   "metadata": {},
   "outputs": [],
   "source": [
    "np.savetxt('archivo.txt', a)"
   ]
  },
  {
   "cell_type": "markdown",
   "id": "2f199aeb",
   "metadata": {},
   "source": [
    "Con la funcion %loadtxt podemos leer un archivo de texto. "
   ]
  },
  {
   "cell_type": "code",
   "execution_count": 20,
   "id": "189dd1ab",
   "metadata": {},
   "outputs": [
    {
     "data": {
      "text/plain": [
       "6.0"
      ]
     },
     "execution_count": 20,
     "metadata": {},
     "output_type": "execute_result"
    }
   ],
   "source": [
    "# %load archivo.txt\n",
    "9.000000000000000000e+00\n",
    "9.000000000000000000e+00\n",
    "1.000000000000000000e+00\n",
    "7.000000000000000000e+00\n",
    "5.000000000000000000e+00\n",
    "9.000000000000000000e+00\n",
    "9.000000000000000000e+00\n",
    "0.000000000000000000e+00\n",
    "4.000000000000000000e+00\n",
    "6.000000000000000000e+00\n"
   ]
  },
  {
   "cell_type": "markdown",
   "id": "3c519e6a",
   "metadata": {},
   "source": [
    "EL resultado de %loadtxt son los datos almacenados en formato conmplex. Para que los datos de guarden en el formato que queremos, debemos especificarlo con el parametro fmt. En este caso, '%i' indica que los datos se guardaran como enteros. Existen otros formatos, como '%f' para float, '%s' para string, etc."
   ]
  },
  {
   "cell_type": "code",
   "execution_count": 21,
   "id": "5f57f4e0",
   "metadata": {},
   "outputs": [],
   "source": [
    "np.savetxt('archivo.txt', a, fmt='%i')\n"
   ]
  },
  {
   "cell_type": "code",
   "execution_count": 22,
   "id": "4223a046",
   "metadata": {},
   "outputs": [
    {
     "data": {
      "text/plain": [
       "6"
      ]
     },
     "execution_count": 22,
     "metadata": {},
     "output_type": "execute_result"
    }
   ],
   "source": [
    "# %load archivo.txt\n",
    "9\n",
    "9\n",
    "1\n",
    "7\n",
    "5\n",
    "9\n",
    "9\n",
    "0\n",
    "4\n",
    "6\n"
   ]
  },
  {
   "cell_type": "markdown",
   "id": "02d8109b",
   "metadata": {},
   "source": [
    "Con la funcion loadtxt podemos leer un archivo de texto, el resultado, que es el contenido del archivo que se lee, sera guardado en un nuevo arreglo, que son objetos de tipo float por default."
   ]
  },
  {
   "cell_type": "code",
   "execution_count": 23,
   "id": "d75ddffd",
   "metadata": {},
   "outputs": [
    {
     "data": {
      "text/plain": [
       "array([9., 0., 3., 2., 6., 9., 4., 0., 9., 2.])"
      ]
     },
     "execution_count": 23,
     "metadata": {},
     "output_type": "execute_result"
    }
   ],
   "source": [
    "np.loadtxt('archivo.txt')"
   ]
  },
  {
   "cell_type": "markdown",
   "id": "af592607",
   "metadata": {},
   "source": [
    "Podemos usar el parametro dtype para especificar el tipo de dato que queremos que tenga el nuevo arreglo."
   ]
  },
  {
   "cell_type": "code",
   "execution_count": 24,
   "id": "65f01b7d",
   "metadata": {},
   "outputs": [
    {
     "data": {
      "text/plain": [
       "array([9, 0, 3, 2, 6, 9, 4, 0, 9, 2])"
      ]
     },
     "execution_count": 24,
     "metadata": {},
     "output_type": "execute_result"
    }
   ],
   "source": [
    "np.loadtxt('archivo.txt', dtype=int)"
   ]
  },
  {
   "cell_type": "markdown",
   "id": "cc37fa56",
   "metadata": {},
   "source": [
    "Con la funcion reshape podemos cambiar la forma de un arreglo, siempre y cuando el nuevo tamaño sea compatible con el tamaño original del arreglo. En este caso, estamos cambiando un arreglo de 10 elementos a una matriz de 2 filas y 5 columna."
   ]
  },
  {
   "cell_type": "code",
   "execution_count": 8,
   "id": "1512fac1",
   "metadata": {},
   "outputs": [
    {
     "data": {
      "text/plain": [
       "array([[0, 0, 1, 6, 8],\n",
       "       [2, 2, 4, 8, 3]])"
      ]
     },
     "execution_count": 8,
     "metadata": {},
     "output_type": "execute_result"
    }
   ],
   "source": [
    "b = np.random.randint(0,10,10)\n",
    "\n",
    "c = b.reshape((2,5))\n",
    "\n",
    "c"
   ]
  },
  {
   "cell_type": "markdown",
   "id": "a45c9fd4",
   "metadata": {},
   "source": [
    "Podemos crear archivos CSV utilizando la funcion savetxt. Los parametros dentro de los () indican el nombre del archivo que se va a crear, el arreglo que se guardara en el archivo, el delimitador entre cada elemento (en este caso una coma) y el formato de los datos (en este caso enteros)."
   ]
  },
  {
   "cell_type": "code",
   "execution_count": 9,
   "id": "22655610",
   "metadata": {},
   "outputs": [],
   "source": [
    "np.savetxt('matriz.csv', c, delimiter=',', fmt='%i')"
   ]
  },
  {
   "cell_type": "code",
   "execution_count": 10,
   "id": "ecd2e649",
   "metadata": {},
   "outputs": [
    {
     "data": {
      "text/plain": [
       "5"
      ]
     },
     "execution_count": 10,
     "metadata": {},
     "output_type": "execute_result"
    }
   ],
   "source": [
    "# %load matriz.csv\n",
    "4\n",
    "1\n",
    "5\n",
    "8\n",
    "0\n",
    "2\n",
    "3\n",
    "6\n",
    "4\n",
    "5\n"
   ]
  },
  {
   "cell_type": "markdown",
   "id": "8147e6fd",
   "metadata": {},
   "source": [
    "De igual manera, podemos leer archivos CSV utilizando la funcion loadtxt. Los elementos dentro del archivo se guardaran en un nuevo arreglo."
   ]
  },
  {
   "cell_type": "code",
   "execution_count": 6,
   "id": "d84f3688",
   "metadata": {},
   "outputs": [
    {
     "data": {
      "text/plain": [
       "array([[5, 4, 5, 6, 5],\n",
       "       [9, 7, 9, 9, 5]])"
      ]
     },
     "execution_count": 6,
     "metadata": {},
     "output_type": "execute_result"
    }
   ],
   "source": [
    "d = np.loadtxt('matriz.csv', delimiter=',', dtype=int)\n",
    "d"
   ]
  },
  {
   "cell_type": "markdown",
   "id": "77534a13",
   "metadata": {},
   "source": [
    "Otra manera de crear y leer archivos es mediante las funciones save y load.\n",
    "La diferencia entre esta y la manera anterior es que en este procedimiento los datos se guardaran en binario, mientras que en la manera anterios los datos se guardan en texto plano.\n",
    "\n",
    "En este caso, en el nombre del archivo a crear, el formato del archivo es npy, que indica que el archivo es un archivo numpy.\n",
    "Cabe recalcar que"
   ]
  },
  {
   "cell_type": "code",
   "execution_count": 2,
   "id": "798b4da0",
   "metadata": {},
   "outputs": [
    {
     "data": {
      "text/plain": [
       "array([2, 6, 6, 6, 4, 8, 6, 0, 2, 4])"
      ]
     },
     "execution_count": 2,
     "metadata": {},
     "output_type": "execute_result"
    }
   ],
   "source": [
    "y = np.random.randint(0,10,10)\n",
    "\n",
    "np.save('arreglo_binario.npy', y)\n",
    "\n",
    "np.load('arreglo_binario.npy')"
   ]
  },
  {
   "cell_type": "markdown",
   "id": "5dc90acb",
   "metadata": {},
   "source": [
    "### Modficar arreglos\n",
    "\n",
    "Primero debemos recordar que los arreglos son inmutables, no se puede modificar su tamaño, pero si se pueden modificar sus elementos. \n",
    "Tambien se puede agregar o eliminar elementos, pero eso no quiere decir que se modifico el arreglo original, lo que pasa es que se crea un nuevo arreglo basandose en el arreglo original, pero con los cambios que se le hayan hecho.\n",
    "\n",
    "Como podemos ver en los siqguientes ejemplos, podemos agregar elementos con las funciones insert y append. \n",
    "La diferencia es que con insert podemos agregar un elemento en cualquier posición que querramos de nuestro arreglo indicando en los parametros el arreglo a modificar seguido de la posición en la que se agregara y el valor a agregar, mientras que con append cualquier elemento que agreguemos se añadira al final del arreglo."
   ]
  },
  {
   "cell_type": "code",
   "execution_count": null,
   "id": "c4b129e9",
   "metadata": {},
   "outputs": [
    {
     "data": {
      "text/plain": [
       "array([100,   0,   6,   9,   2,   8,   7,   3,   4,   8,   1])"
      ]
     },
     "execution_count": 3,
     "metadata": {},
     "output_type": "execute_result"
    }
   ],
   "source": [
    "z = np.random.randint(0,10,10)\n",
    "\n",
    "np.insert(z, 0, 100)"
   ]
  },
  {
   "cell_type": "code",
   "execution_count": null,
   "id": "d0757b77",
   "metadata": {},
   "outputs": [
    {
     "data": {
      "text/plain": [
       "array([  0,   6,   9,   2,   8,   7,   3,   4,   8,   1, 100])"
      ]
     },
     "execution_count": 4,
     "metadata": {},
     "output_type": "execute_result"
    }
   ],
   "source": [
    "np.append(z, 100)"
   ]
  },
  {
   "cell_type": "markdown",
   "id": "3d684423",
   "metadata": {},
   "source": [
    "La funcion delete nos permite eliminar cualquier elemento que se encuentre en cualquier posicón de nuestro arreglo.\n",
    "Basta con indicar el arreglo a modificar y la posición en la que se enecuentra el elemento a eliminar."
   ]
  },
  {
   "cell_type": "code",
   "execution_count": null,
   "id": "4b4652ec",
   "metadata": {},
   "outputs": [
    {
     "data": {
      "text/plain": [
       "array([6, 9, 2, 8, 7, 3, 4, 8, 1])"
      ]
     },
     "execution_count": 5,
     "metadata": {},
     "output_type": "execute_result"
    }
   ],
   "source": [
    "np.delete(z, 0)"
   ]
  },
  {
   "cell_type": "markdown",
   "id": "a9e8bb3f",
   "metadata": {},
   "source": [
    "Con la funcion resize podemos cambiar el tamaño de un arreglo. \n",
    "Basta con indicar el arreglo a modificar y el nuevo tamaño que queremos que tenga el arreglo.\n",
    "En este caso, el arreglo original tenia 10 elementos y con resize lo cambiamos a 5 elementos.\n",
    "Los elementos que se quedan en el arreglo son los 5 primeros o los primeros que sean dependiendo el numero que se indique en el segundo parametro."
   ]
  },
  {
   "cell_type": "code",
   "execution_count": null,
   "id": "9f1d6539",
   "metadata": {},
   "outputs": [
    {
     "data": {
      "text/plain": [
       "array([0, 6, 9, 2, 8])"
      ]
     },
     "execution_count": 6,
     "metadata": {},
     "output_type": "execute_result"
    }
   ],
   "source": [
    "np.resize(z, 5)"
   ]
  },
  {
   "cell_type": "markdown",
   "id": "b2d52bd3",
   "metadata": {},
   "source": [
    "Con la función concatenar podemos unir dos o más arreglos en uno nuevo arreglo.\n",
    "Cabe recalcar que los datos se guardaran en el mismo orden en el que se indican los arreglos en los parametros, en este caso,\n",
    "primero se añaden los elementos del arreglo r y despues los del arreglo k."
   ]
  },
  {
   "cell_type": "code",
   "execution_count": null,
   "id": "f964c1bf",
   "metadata": {},
   "outputs": [
    {
     "data": {
      "text/plain": [
       "array([  50,   60,  100,   88,   45,  400,  550,  870, 1000])"
      ]
     },
     "execution_count": 11,
     "metadata": {},
     "output_type": "execute_result"
    }
   ],
   "source": [
    "r = np.array([50, 60, 100, 88, 45])\n",
    "k = np.array([400, 550, 870, 1000])\n",
    "\n",
    "np.concatenate([r, k])"
   ]
  },
  {
   "cell_type": "markdown",
   "id": "130a9626",
   "metadata": {},
   "source": [
    "### Ordenamiento de arreglos\n",
    "\n",
    "Con la fucnción sort podemos aordenar los elementos de menor a mayor. Como podemos ver, en el primer bloque de codigo, el arreglo creado contiene elementos desordenados, pero al aplicar sort(), los elemetos se ordenan de menor a mayor. Esto si modifica el arreglo original. "
   ]
  },
  {
   "cell_type": "code",
   "execution_count": null,
   "id": "7dbbbe37",
   "metadata": {},
   "outputs": [
    {
     "data": {
      "text/plain": [
       "array([12,  9, 12,  8,  9,  7,  2,  1,  0,  4,  6, 14, 19,  7, 11,  7, 12,\n",
       "       17,  9,  6,  2, 13, 17,  6, 11, 15,  7,  4,  2, 11])"
      ]
     },
     "execution_count": 13,
     "metadata": {},
     "output_type": "execute_result"
    }
   ],
   "source": [
    "p = np.random.randint(0,20,30)\n",
    "p"
   ]
  },
  {
   "cell_type": "code",
   "execution_count": null,
   "id": "0d03a1f8",
   "metadata": {},
   "outputs": [
    {
     "data": {
      "text/plain": [
       "array([ 0,  1,  2,  2,  2,  4,  4,  6,  6,  6,  7,  7,  7,  7,  8,  9,  9,\n",
       "        9, 11, 11, 11, 12, 12, 12, 13, 14, 15, 17, 17, 19])"
      ]
     },
     "execution_count": 14,
     "metadata": {},
     "output_type": "execute_result"
    }
   ],
   "source": [
    "p.sort()\n",
    "p"
   ]
  },
  {
   "cell_type": "markdown",
   "id": "d312ece3",
   "metadata": {},
   "source": [
    "Si aplicamos el slicing [::-1] el arreglo se ordenara de mayor a menor, pero esto solo es una vista del arreglo, no lo modifica. Si queremos que el arreglo original se modifique, debemos asignar el resultado del slicing a la variable del arreglo, en este caso p = p[::-1].\n",
    "\n",
    "Cabe recalcar que primero debemos ordenar el arreglo de manera ascendente con sort() y despues ya podemos aplicar cualquiera de las dos funciones para ordenar de manera descendente."
   ]
  },
  {
   "cell_type": "code",
   "execution_count": null,
   "id": "eb6dd9ca",
   "metadata": {},
   "outputs": [
    {
     "data": {
      "text/plain": [
       "array([19, 17, 17, 15, 14, 13, 12, 12, 12, 11, 11, 11,  9,  9,  9,  8,  7,\n",
       "        7,  7,  7,  6,  6,  6,  4,  4,  2,  2,  2,  1,  0])"
      ]
     },
     "execution_count": 15,
     "metadata": {},
     "output_type": "execute_result"
    }
   ],
   "source": [
    "p[::-1]"
   ]
  },
  {
   "cell_type": "code",
   "execution_count": null,
   "id": "c812fe42",
   "metadata": {},
   "outputs": [
    {
     "data": {
      "text/plain": [
       "array([ 0,  1,  2,  2,  2,  4,  4,  6,  6,  6,  7,  7,  7,  7,  8,  9,  9,\n",
       "        9, 11, 11, 11, 12, 12, 12, 13, 14, 15, 17, 17, 19])"
      ]
     },
     "execution_count": 22,
     "metadata": {},
     "output_type": "execute_result"
    }
   ],
   "source": [
    "p\n"
   ]
  },
  {
   "cell_type": "code",
   "execution_count": null,
   "id": "106d6343",
   "metadata": {},
   "outputs": [
    {
     "data": {
      "text/plain": [
       "array([19, 17, 17, 15, 14, 13, 12, 12, 12, 11, 11, 11,  9,  9,  9,  8,  7,\n",
       "        7,  7,  7,  6,  6,  6,  4,  4,  2,  2,  2,  1,  0])"
      ]
     },
     "execution_count": 23,
     "metadata": {},
     "output_type": "execute_result"
    }
   ],
   "source": [
    "p = p[::-1]\n",
    "p"
   ]
  },
  {
   "cell_type": "markdown",
   "id": "1f8eed22",
   "metadata": {},
   "source": [
    "Si lo que queremos es crear un nuevo arreglo ordenado sin modificar el original, podemos utilizar np.sort().\n",
    "Indicando dentro de () el arreglo a ordenar. "
   ]
  },
  {
   "cell_type": "code",
   "execution_count": null,
   "id": "c57a3ff4",
   "metadata": {},
   "outputs": [
    {
     "data": {
      "text/plain": [
       "array([ 0,  1,  2,  2,  2,  4,  4,  6,  6,  6,  7,  7,  7,  7,  8,  9,  9,\n",
       "        9, 11, 11, 11, 12, 12, 12, 13, 14, 15, 17, 17, 19])"
      ]
     },
     "execution_count": 24,
     "metadata": {},
     "output_type": "execute_result"
    }
   ],
   "source": [
    "np.sort(p)"
   ]
  },
  {
   "cell_type": "markdown",
   "id": "e28adf7c",
   "metadata": {},
   "source": [
    "Si queremos crear un nuevo arreglo ordenado de manera descendente, podemos combinar np.sort() con el slicing [::-1]."
   ]
  },
  {
   "cell_type": "code",
   "execution_count": null,
   "id": "9ee079a1",
   "metadata": {},
   "outputs": [
    {
     "data": {
      "text/plain": [
       "array([19, 17, 17, 15, 14, 13, 12, 12, 12, 11, 11, 11,  9,  9,  9,  8,  7,\n",
       "        7,  7,  7,  6,  6,  6,  4,  4,  2,  2,  2,  1,  0])"
      ]
     },
     "execution_count": 25,
     "metadata": {},
     "output_type": "execute_result"
    }
   ],
   "source": [
    "p = np.sort(p)[::-1]\n",
    "p"
   ]
  }
 ],
 "metadata": {
  "kernelspec": {
   "display_name": "datos-mysql (3.12.3)",
   "language": "python",
   "name": "python3"
  },
  "language_info": {
   "codemirror_mode": {
    "name": "ipython",
    "version": 3
   },
   "file_extension": ".py",
   "mimetype": "text/x-python",
   "name": "python",
   "nbconvert_exporter": "python",
   "pygments_lexer": "ipython3",
   "version": "3.12.3"
  }
 },
 "nbformat": 4,
 "nbformat_minor": 5
}
